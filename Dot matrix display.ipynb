{
 "cells": [
  {
   "cell_type": "markdown",
   "id": "d8cd00b5",
   "metadata": {},
   "source": [
    "## Dot Matrix display"
   ]
  },
  {
   "cell_type": "markdown",
   "id": "fb46e8a2",
   "metadata": {},
   "source": [
    "#### This project aims to be capable of producing outputs for dot matix  LCD displays. At least by demonstrating the underlying logic along the way:"
   ]
  },
  {
   "cell_type": "markdown",
   "id": "76169842",
   "metadata": {},
   "source": [
    "##### Create an array for each text symbol to form an element:"
   ]
  },
  {
   "cell_type": "code",
   "execution_count": null,
   "id": "f1dcb3f1",
   "metadata": {},
   "outputs": [],
   "source": [
    "arr = ['','','']\n",
    "arr"
   ]
  },
  {
   "cell_type": "markdown",
   "id": "8211fd43",
   "metadata": {},
   "source": [
    "#### Each element has been left blank, and may be filled, using '_' as a visual version of ' '.\n",
    "#### So each element be have the default value of '_'"
   ]
  },
  {
   "cell_type": "code",
   "execution_count": null,
   "id": "e2f2033a",
   "metadata": {},
   "outputs": [],
   "source": [
    "arr = ['_','_','_']\n",
    "arr"
   ]
  },
  {
   "cell_type": "markdown",
   "id": "d46e8c91",
   "metadata": {},
   "source": [
    "#### There won't be much scope for displaying charactors in a 1D array, lets form several layers to our display:"
   ]
  },
  {
   "cell_type": "code",
   "execution_count": null,
   "id": "74ca9bd3",
   "metadata": {},
   "outputs": [],
   "source": []
  },
  {
   "cell_type": "code",
   "execution_count": null,
   "id": "8b7803b4",
   "metadata": {},
   "outputs": [],
   "source": [
    "cols = 3\n",
    "lyr = [arr for line in range(cols)]\n",
    "lyr"
   ]
  },
  {
   "cell_type": "markdown",
   "id": "b1737f86",
   "metadata": {},
   "source": [
    "#### To be selective with our element:\n",
    "#### The central column = '0'"
   ]
  },
  {
   "cell_type": "code",
   "execution_count": null,
   "id": "56496f94",
   "metadata": {},
   "outputs": [],
   "source": [
    "lyr[0][1]  = '0'\n",
    "lyr"
   ]
  },
  {
   "cell_type": "markdown",
   "id": "8a0ae0a1",
   "metadata": {},
   "source": [
    "#### The output does not look to realistic.\n",
    "#### Let's create an object 'lines' for each layer to join onto:\n",
    "#### for lin in (1,2,3), the element of lines will be the layer (lyr) joined"
   ]
  },
  {
   "cell_type": "code",
   "execution_count": null,
   "id": "3e0b1673",
   "metadata": {},
   "outputs": [],
   "source": [
    "lines = [\"\" for lin in range(3)]\n",
    "for lin in range(3):\n",
    "    lines[lin] += \"\".join(lyr[lin])+''"
   ]
  },
  {
   "cell_type": "markdown",
   "id": "14976a7e",
   "metadata": {},
   "source": [
    "#### Then a for loop to run through each line and print\n"
   ]
  },
  {
   "cell_type": "code",
   "execution_count": null,
   "id": "8196b590",
   "metadata": {},
   "outputs": [],
   "source": [
    "for lin in lines:\n",
    "    print(lin)"
   ]
  },
  {
   "cell_type": "markdown",
   "id": "b158d878",
   "metadata": {},
   "source": [
    "#### That's the middle column filled, how about some variety:\n",
    "#### Let's create a diagonal:\n",
    "#### First we must create another for loop, such that each row of the input matrix is created sequentially:\n",
    "#### line 7: define the array explicity (not as the variable)"
   ]
  },
  {
   "cell_type": "markdown",
   "id": "b5b983a5",
   "metadata": {},
   "source": []
  },
  {
   "cell_type": "code",
   "execution_count": null,
   "id": "5410515e",
   "metadata": {},
   "outputs": [],
   "source": [
    "arr = ['_','_','_']\n",
    "elem = '*'\n",
    "cols = 3\n",
    "\n",
    "for i in range(cols):\n",
    "    lines = [\"\"for lin in range(cols)]\n",
    "    lyr = [['_','_','_'] for line in range(cols)]\n",
    "#    lyr = [arr for line in range(cols)]\n",
    "\n",
    "    lyr[0][0]=elem\n",
    "    lyr[1][1]=elem\n",
    "    lyr[2][2]=elem\n",
    "\n",
    "    #lines = [\"\" for lin in range(3)]\n",
    "for lin in range(cols):\n",
    "    lines[lin] += \"\".join(lyr[lin])+''\n",
    "\n",
    "for lin in lines:\n",
    "    print(lin)"
   ]
  },
  {
   "cell_type": "markdown",
   "id": "4d73899d",
   "metadata": {},
   "source": [
    "#### Or a box:"
   ]
  },
  {
   "cell_type": "code",
   "execution_count": null,
   "id": "a8b2bc02",
   "metadata": {},
   "outputs": [],
   "source": [
    "#arr = ['_','_','_']\n",
    "elem = '*'\n",
    "cols = 3\n",
    "\n",
    "for i in range(cols):\n",
    "    lines = [\"\"for lin in range(cols)]\n",
    "    lyr = [['_','_','_'] for line in range(cols)]\n",
    "#    lyr = [arr for line in range(cols)]\n",
    "#top row:\n",
    "    lyr[0][0]=elem\n",
    "    lyr[0][1]=elem\n",
    "    lyr[0][2]=elem\n",
    "# middle row:\n",
    "    lyr[1][0]=elem\n",
    "#   lyr[1][1]= elem\n",
    "    lyr[1][2]=elem\n",
    "# bottom row:\n",
    "    lyr[2][0]=elem\n",
    "    lyr[2][1]=elem\n",
    "    lyr[2][2]=elem\n",
    "    \n",
    "    \n",
    "\n",
    "    #lines = [\"\" for lin in range(3)]\n",
    "for lin in range(cols):\n",
    "    lines[lin] += \"\".join(lyr[lin])+''\n",
    "\n",
    "for lin in lines:\n",
    "    print(lin)"
   ]
  },
  {
   "cell_type": "markdown",
   "id": "4ae931d6",
   "metadata": {},
   "source": [
    "#### Let's expand the dot matrix, setting cols as a cofactor of the lyr (line 7) and redefine variable to 5."
   ]
  },
  {
   "cell_type": "code",
   "execution_count": null,
   "id": "d2d7454f",
   "metadata": {},
   "outputs": [],
   "source": [
    "cols=5\n",
    "elem = '0'\n",
    "\n",
    "\n",
    "for i in range(cols):\n",
    "    lines = [\"\"for lin in range(cols)]\n",
    "    lyr = [cols*['_'] for line in range(cols)]\n",
    "    \n",
    "    \n",
    "    \n",
    "\n",
    "#    lyr = [arr for line in range(cols)]    \n",
    "#lines = [\"\" for lin in range(3)]\n",
    "for lin in range(cols):\n",
    "    lines[lin] += \"\".join(lyr[lin])+''\n",
    "\n",
    "for lin in lines:\n",
    "    print(lin)"
   ]
  },
  {
   "cell_type": "markdown",
   "id": "17cca206",
   "metadata": {},
   "source": [
    "##### The next challenge being getting the lyr components to expand in relation to the new scale.\n",
    "##### To acheive this the number of column will equal number of rows, a square matrix.\n",
    "##### Another for loop will iterate through each row and column position and assign the elem = '*'."
   ]
  },
  {
   "cell_type": "code",
   "execution_count": null,
   "id": "470546f4",
   "metadata": {},
   "outputs": [],
   "source": [
    "cols=20\n",
    "elem = '*'\n",
    "\n",
    "\n",
    "for i in range(cols):\n",
    "    lines = [\"\"for lin in range(cols)]\n",
    "    lyr = [cols*[' '] for line in range(cols)]\n",
    "#top row:\n",
    "i=j = cols\n",
    "\n",
    "for i in range(cols):\n",
    "    for j in range(cols):\n",
    "        lyr[i][j]='*'\n",
    "\n",
    "#    lyr = [arr for line in range(cols)]    \n",
    "#lines = [\"\" for lin in range(3)]\n",
    "for lin in range(cols):\n",
    "    lines[lin] += \"\".join(lyr[lin])+''\n",
    "\n",
    "for lin in lines:\n",
    "    print(lin)"
   ]
  },
  {
   "cell_type": "markdown",
   "id": "a1797d71",
   "metadata": {},
   "source": [
    "##### To create a box, be specific where to assign the elem"
   ]
  },
  {
   "cell_type": "code",
   "execution_count": 11,
   "id": "39c5826e",
   "metadata": {},
   "outputs": [
    {
     "name": "stdout",
     "output_type": "stream",
     "text": [
      "********************\n",
      "*                  *\n",
      "*                  *\n",
      "*                  *\n",
      "*                  *\n",
      "*                  *\n",
      "*                  *\n",
      "*                  *\n",
      "*                  *\n",
      "*                  *\n",
      "*                  *\n",
      "*                  *\n",
      "*                  *\n",
      "*                  *\n",
      "*                  *\n",
      "*                  *\n",
      "*                  *\n",
      "*                  *\n",
      "*                  *\n",
      "********************\n"
     ]
    }
   ],
   "source": [
    "cols=20\n",
    "elem = '0'\n",
    "\n",
    "\n",
    "for i in range(cols):\n",
    "    lines = [\"\"for lin in range(cols)]\n",
    "    lyr = [cols*[' '] for line in range(cols)]\n",
    "#top row:\n",
    "i=j = cols\n",
    "\n",
    "for i in range(cols):\n",
    "    for j in range(cols):\n",
    "        if i  == cols-1 or i == 0:\n",
    "            lyr[i][j]='*'\n",
    "        if j  == cols-1 or j == 0:\n",
    "            lyr[i][j]='*'\n",
    "        \n",
    "\n",
    "    \n",
    "#    lyr = [arr for line in range(cols)]    \n",
    "#lines = [\"\" for lin in range(3)]\n",
    "for lin in range(cols):\n",
    "    lines[lin] += \"\".join(lyr[lin])+''\n",
    "\n",
    "for lin in lines:\n",
    "    print(lin)"
   ]
  },
  {
   "cell_type": "markdown",
   "id": "0a651d40",
   "metadata": {},
   "source": [
    "##### We can create iterative patterns based upon the logic built into the for loop on line 11:"
   ]
  },
  {
   "cell_type": "code",
   "execution_count": 13,
   "id": "47039650",
   "metadata": {},
   "outputs": [
    {
     "name": "stdout",
     "output_type": "stream",
     "text": [
      ".****.****.****.****\n",
      ".    .    .    .    \n",
      ".    .    .    .    \n",
      ".    .    .    .    \n",
      ".    .    .    .    \n",
      ".****.****.****.****\n",
      ".    .    .    .    \n",
      ".    .    .    .    \n",
      ".    .    .    .    \n",
      ".    .    .    .    \n",
      ".****.****.****.****\n",
      ".    .    .    .    \n",
      ".    .    .    .    \n",
      ".    .    .    .    \n",
      ".    .    .    .    \n",
      ".****.****.****.****\n",
      ".    .    .    .    \n",
      ".    .    .    .    \n",
      ".    .    .    .    \n",
      ".    .    .    .    \n"
     ]
    }
   ],
   "source": [
    "cols=20\n",
    "elem = '0'\n",
    "\n",
    "\n",
    "for i in range(cols):\n",
    "    lines = [\"\"for lin in range(cols)]\n",
    "    lyr = [cols*[' '] for line in range(cols)]\n",
    "#top row:\n",
    "i=j = cols\n",
    "\n",
    "for i in range(cols):\n",
    "    for j in range(cols):\n",
    "        if i%5 == 0:\n",
    "            lyr[i][j]='*'\n",
    "        if j %5 == 0:\n",
    "            lyr[i][j]='.'\n",
    "        \n",
    "\n",
    "    \n",
    "#    lyr = [arr for line in range(cols)]    \n",
    "#lines = [\"\" for lin in range(3)]\n",
    "for lin in range(cols):\n",
    "    lines[lin] += \"\".join(lyr[lin])+''\n",
    "\n",
    "for lin in lines:\n",
    "    print(lin)"
   ]
  },
  {
   "cell_type": "code",
   "execution_count": 12,
   "id": "d60fcb8a",
   "metadata": {},
   "outputs": [
    {
     "name": "stdout",
     "output_type": "stream",
     "text": [
      ".........................\n",
      ".  * .*  *. *  .  * .*  *\n",
      ".  * .*  *. *  .  * .*  *\n",
      ".........................\n",
      ".  * .*  *. *  .  * .*  *\n",
      ".****.****.****.****.****\n",
      ".........................\n",
      ".  * .*  *. *  .  * .*  *\n",
      ".  * .*  *. *  .  * .*  *\n",
      ".........................\n",
      ".****.****.****.****.****\n",
      ".  * .*  *. *  .  * .*  *\n",
      ".........................\n",
      ".  * .*  *. *  .  * .*  *\n",
      ".  * .*  *. *  .  * .*  *\n",
      ".........................\n",
      ".  * .*  *. *  .  * .*  *\n",
      ".  * .*  *. *  .  * .*  *\n",
      ".........................\n",
      ".  * .*  *. *  .  * .*  *\n",
      ".****.****.****.****.****\n",
      ".........................\n",
      ".  * .*  *. *  .  * .*  *\n",
      ".  * .*  *. *  .  * .*  *\n",
      ".........................\n"
     ]
    }
   ],
   "source": [
    "cols=25\n",
    "elem = '*'\n",
    "\n",
    "\n",
    "for i in range(cols):\n",
    "    lines = [\"\"for lin in range(cols)]\n",
    "    lyr = [cols*[' '] for line in range(cols)]\n",
    "#top row:\n",
    "i=j = cols\n",
    "\n",
    "for i in range(cols):\n",
    "    for j in range(cols):\n",
    "        if i%5 == 0 or j%3 == 0:\n",
    "            lyr[i][j]='*'\n",
    "        if j %5 == 0 or i%3 ==0:\n",
    "            lyr[i][j]='.'\n",
    "        \n",
    "\n",
    "    \n",
    "#    lyr = [arr for line in range(cols)]    \n",
    "#lines = [\"\" for lin in range(3)]\n",
    "for lin in range(cols):\n",
    "    lines[lin] += \"\".join(lyr[lin])+''\n",
    "\n",
    "for lin in lines:\n",
    "    print(lin)"
   ]
  },
  {
   "cell_type": "code",
   "execution_count": null,
   "id": "98515b01",
   "metadata": {},
   "outputs": [],
   "source": []
  },
  {
   "cell_type": "code",
   "execution_count": null,
   "id": "63f59dd7",
   "metadata": {},
   "outputs": [],
   "source": []
  }
 ],
 "metadata": {
  "kernelspec": {
   "display_name": "Python 3",
   "language": "python",
   "name": "python3"
  },
  "language_info": {
   "codemirror_mode": {
    "name": "ipython",
    "version": 3
   },
   "file_extension": ".py",
   "mimetype": "text/x-python",
   "name": "python",
   "nbconvert_exporter": "python",
   "pygments_lexer": "ipython3",
   "version": "3.8.8"
  }
 },
 "nbformat": 4,
 "nbformat_minor": 5
}
