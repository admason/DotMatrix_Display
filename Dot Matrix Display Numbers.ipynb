{
 "cells": [
  {
   "cell_type": "code",
   "execution_count": 1,
   "id": "f586eb7a",
   "metadata": {},
   "outputs": [
    {
     "name": "stdout",
     "output_type": "stream",
     "text": [
      "Enter number: 4\n",
      "Enter symbol type 5\n",
      "\n",
      "Number 4 not constructed yet\n",
      "       \n",
      "       \n",
      "       \n",
      "       \n",
      "       \n",
      "       \n",
      "       \n"
     ]
    }
   ],
   "source": [
    "## Dot matrix number display \n",
    " \n",
    "num = int(input('Enter number: '))\n",
    "elem = input('Enter symbol style: ')\n",
    "cols=7\n",
    "#elem = '#'\n",
    "d=int(5)\n",
    "for k in range(cols):\n",
    "    row = [cols*[' '] for line in range(cols)] \n",
    "\n",
    "\n",
    "if num ==1:\n",
    "    for i in range(cols):\n",
    "        if ptrn[i] == '1':\n",
    "            row[i][cols-1]=elem #fills column 7\n",
    "#####################################################\n",
    "if num ==2:   #\n",
    "    for i in range(cols):\n",
    "            row[1][cols-1]=row[2][cols-1]\\\n",
    "            =row[4][0]=row[5][0]=elem #fills column 7\n",
    "    for j in range(cols):\n",
    "            row[0][j]=row[3][j]=row[6][j]=elem  \n",
    "#######################################################           \n",
    "if num ==3:\n",
    "    for i in range(cols):\n",
    "            row[i][cols-1]=elem #fills column 7\n",
    "    for j in range(cols):\n",
    "            row[0][j]=row[3][j]=row[6][j]=elem             \n",
    "######################################################\n",
    "if num ==7:\n",
    "    for i in range(cols):\n",
    "            row[i][cols-1]=elem #fills column 7\n",
    "    for j in range(cols):\n",
    "            row[0][j]=elem\n",
    "######################################################   \n",
    "else:\n",
    "    print(f\"\\nNumber {num} not constructed yet.\")\n",
    "    \n",
    "\n",
    "    \n",
    "lines = [\"\" for lin in range(cols)]\n",
    "for lin in range(cols):\n",
    "    lines[lin] += \"\".join(row[lin])+''\n",
    "for lin in lines:\n",
    "    print(lin)\n",
    "    "
   ]
  },
  {
   "cell_type": "code",
   "execution_count": null,
   "id": "571290bd",
   "metadata": {},
   "outputs": [],
   "source": []
  }
 ],
 "metadata": {
  "kernelspec": {
   "display_name": "Python 3",
   "language": "python",
   "name": "python3"
  },
  "language_info": {
   "codemirror_mode": {
    "name": "ipython",
    "version": 3
   },
   "file_extension": ".py",
   "mimetype": "text/x-python",
   "name": "python",
   "nbconvert_exporter": "python",
   "pygments_lexer": "ipython3",
   "version": "3.8.8"
  }
 },
 "nbformat": 4,
 "nbformat_minor": 5
}
