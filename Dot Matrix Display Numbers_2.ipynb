{
 "cells": [
  {
   "cell_type": "code",
   "execution_count": 8,
   "id": "d6923874",
   "metadata": {},
   "outputs": [
    {
     "name": "stdout",
     "output_type": "stream",
     "text": [
      "Enter number: 3\n",
      "Enter symbol type 3\n",
      "\n",
      "Number 3 not constructed yet\n",
      "3333333\n",
      "      3\n",
      "      3\n",
      "3333333\n",
      "      3\n",
      "      3\n",
      "3333333\n"
     ]
    }
   ],
   "source": [
    "num = int(input('Enter number: '))\n",
    "elem = input('Enter symbol type ')\n",
    "cols=7\n",
    "#elem = '#'\n",
    "d=int(5)\n",
    "for k in range(cols):\n",
    "    row = [cols*[' '] for line in range(cols)] \n",
    "\n",
    "\n",
    "if num ==1:\n",
    "    for i in range(cols):\n",
    "            row[i][cols-1]=elem #fills column 7\n",
    "#####################################################\n",
    "if num ==2:   #\n",
    "    for i in range(cols):\n",
    "            row[1][cols-1]=row[2][cols-1]\\\n",
    "            =row[4][0]=row[5][0]=elem #fills column 7\n",
    "    for j in range(cols):\n",
    "            row[0][j]=row[3][j]=row[6][j]=elem  \n",
    "#######################################################           \n",
    "if num ==3:\n",
    "    for i in range(cols):\n",
    "            row[i][cols-1]=elem #fills column 7\n",
    "    for j in range(cols):\n",
    "            row[0][j]=row[3][j]=row[6][j]=elem             \n",
    "######################################################\n",
    "if num ==7:\n",
    "    for i in range(cols):\n",
    "            row[i][cols-1]=elem #fills column 7\n",
    "    for j in range(cols):\n",
    "            row[0][j]=elem\n",
    "######################################################   \n",
    "\n",
    "\n",
    "\n",
    "    \n",
    "\n",
    "    \n",
    "lines = [\"\" for lin in range(cols)]\n",
    "for lin in range(cols):\n",
    "    lines[lin] += \"\".join(row[lin])+''\n",
    "for lin in lines:\n",
    "    print(lin)\n",
    "    "
   ]
  },
  {
   "cell_type": "code",
   "execution_count": null,
   "id": "6b7b5d5b",
   "metadata": {},
   "outputs": [],
   "source": []
  }
 ],
 "metadata": {
  "kernelspec": {
   "display_name": "Python 3",
   "language": "python",
   "name": "python3"
  },
  "language_info": {
   "codemirror_mode": {
    "name": "ipython",
    "version": 3
   },
   "file_extension": ".py",
   "mimetype": "text/x-python",
   "name": "python",
   "nbconvert_exporter": "python",
   "pygments_lexer": "ipython3",
   "version": "3.8.8"
  }
 },
 "nbformat": 4,
 "nbformat_minor": 5
}
